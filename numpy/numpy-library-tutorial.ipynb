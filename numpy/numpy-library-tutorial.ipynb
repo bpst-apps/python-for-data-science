{
 "cells": [
  {
   "cell_type": "markdown",
   "id": "5c4bce11",
   "metadata": {},
   "source": [
    "# Numpy\n",
    "\n",
    "---\n",
    "\n",
    "Numpy stands for `numerical python` and is core library for numeric and scientific computing.\n",
    "\n",
    "It consists of multi-dimensional array objects and a collection of routines for processing those arrays."
   ]
  },
  {
   "cell_type": "code",
   "execution_count": 1,
   "id": "ac460c97",
   "metadata": {},
   "outputs": [],
   "source": [
    "import numpy as np"
   ]
  },
  {
   "cell_type": "code",
   "execution_count": 2,
   "id": "e25940c2",
   "metadata": {},
   "outputs": [
    {
     "data": {
      "text/plain": [
       "array([1, 2, 3, 4, 5])"
      ]
     },
     "execution_count": 2,
     "metadata": {},
     "output_type": "execute_result"
    }
   ],
   "source": [
    "# array from list\n",
    "my_list = [1, 2, 3, 4, 5]\n",
    "my_array = np.array(my_list)\n",
    "my_array"
   ]
  },
  {
   "cell_type": "code",
   "execution_count": 3,
   "id": "aede603a",
   "metadata": {},
   "outputs": [
    {
     "data": {
      "text/plain": [
       "array([10, 20, 30, 40, 50])"
      ]
     },
     "execution_count": 3,
     "metadata": {},
     "output_type": "execute_result"
    }
   ],
   "source": [
    "# single dimensional array\n",
    "array_1d = np.array([10, 20, 30, 40, 50])\n",
    "array_1d"
   ]
  },
  {
   "cell_type": "code",
   "execution_count": 4,
   "id": "3ce59525",
   "metadata": {},
   "outputs": [
    {
     "data": {
      "text/plain": [
       "numpy.ndarray"
      ]
     },
     "execution_count": 4,
     "metadata": {},
     "output_type": "execute_result"
    }
   ],
   "source": [
    "# check type of array\n",
    "type(array_1d)"
   ]
  },
  {
   "cell_type": "markdown",
   "id": "d8c87024",
   "metadata": {},
   "source": [
    "`numpy.ndarray` means `n dimensional array`"
   ]
  },
  {
   "cell_type": "code",
   "execution_count": 5,
   "id": "3cee4283",
   "metadata": {},
   "outputs": [
    {
     "data": {
      "text/plain": [
       "array([[10, 20, 30, 40, 50],\n",
       "       [50, 40, 30, 20, 10]])"
      ]
     },
     "execution_count": 5,
     "metadata": {},
     "output_type": "execute_result"
    }
   ],
   "source": [
    "# multi-dimensional array\n",
    "array_2d = np.array([[10, 20, 30, 40, 50], [50, 40, 30, 20, 10]])\n",
    "array_2d"
   ]
  },
  {
   "cell_type": "code",
   "execution_count": 6,
   "id": "3c9c3789",
   "metadata": {},
   "outputs": [
    {
     "data": {
      "text/plain": [
       "numpy.ndarray"
      ]
     },
     "execution_count": 6,
     "metadata": {},
     "output_type": "execute_result"
    }
   ],
   "source": [
    "# check type of array\n",
    "type(array_2d)"
   ]
  },
  {
   "cell_type": "markdown",
   "id": "e3d7f682",
   "metadata": {},
   "source": [
    "### zeros()"
   ]
  },
  {
   "cell_type": "code",
   "execution_count": 7,
   "id": "765f71f1",
   "metadata": {},
   "outputs": [
    {
     "data": {
      "text/plain": [
       "array([[0., 0.]])"
      ]
     },
     "execution_count": 7,
     "metadata": {},
     "output_type": "execute_result"
    }
   ],
   "source": [
    "# intializing 1x2 (1 row x 2 column) NumPy array with zeros\n",
    "np.zeros((1,2))"
   ]
  },
  {
   "cell_type": "code",
   "execution_count": 8,
   "id": "3e16cfce",
   "metadata": {},
   "outputs": [
    {
     "data": {
      "text/plain": [
       "array([[0., 0., 0., 0., 0.],\n",
       "       [0., 0., 0., 0., 0.],\n",
       "       [0., 0., 0., 0., 0.],\n",
       "       [0., 0., 0., 0., 0.],\n",
       "       [0., 0., 0., 0., 0.]])"
      ]
     },
     "execution_count": 8,
     "metadata": {},
     "output_type": "execute_result"
    }
   ],
   "source": [
    "# intializing 5x5 (5 row x 5 column) NumPy array with zeros\n",
    "np.zeros((5,5))"
   ]
  },
  {
   "cell_type": "markdown",
   "id": "e255ebd0",
   "metadata": {},
   "source": [
    "### full()"
   ]
  },
  {
   "cell_type": "code",
   "execution_count": 9,
   "id": "0cf34e02",
   "metadata": {},
   "outputs": [
    {
     "data": {
      "text/plain": [
       "array([[10, 10, 10],\n",
       "       [10, 10, 10],\n",
       "       [10, 10, 10]])"
      ]
     },
     "execution_count": 9,
     "metadata": {},
     "output_type": "execute_result"
    }
   ],
   "source": [
    "# initialize 1x2 (3 row x 3 column) NumPy array with same number (10 in this case)\n",
    "np.full((3,3), 10)"
   ]
  },
  {
   "cell_type": "markdown",
   "id": "9ae71f53",
   "metadata": {},
   "source": [
    "### arange()"
   ]
  },
  {
   "cell_type": "code",
   "execution_count": 10,
   "id": "ab2bef36",
   "metadata": {},
   "outputs": [
    {
     "data": {
      "text/plain": [
       "array([10, 11, 12, 13, 14, 15, 16, 17, 18, 19])"
      ]
     },
     "execution_count": 10,
     "metadata": {},
     "output_type": "execute_result"
    }
   ],
   "source": [
    "# initialize NumPy array within a range\n",
    "np.arange(10, 20)"
   ]
  },
  {
   "cell_type": "code",
   "execution_count": 11,
   "id": "5b16aeba",
   "metadata": {},
   "outputs": [
    {
     "data": {
      "text/plain": [
       "array([10, 15, 20, 25, 30, 35, 40, 45])"
      ]
     },
     "execution_count": 11,
     "metadata": {},
     "output_type": "execute_result"
    }
   ],
   "source": [
    "# initialize NumPy array within a range with step 5\n",
    "np.arange(10, 50, 5)"
   ]
  },
  {
   "cell_type": "markdown",
   "id": "f8acd3bd",
   "metadata": {},
   "source": [
    "### randint()"
   ]
  },
  {
   "cell_type": "code",
   "execution_count": 12,
   "id": "442a7e81",
   "metadata": {},
   "outputs": [
    {
     "data": {
      "text/plain": [
       "array([38, 81, 83, 23, 75])"
      ]
     },
     "execution_count": 12,
     "metadata": {},
     "output_type": "execute_result"
    }
   ],
   "source": [
    "# initialize NumPy array with random numbers\n",
    "# get 5 random numbers between range 1 to 100\n",
    "np.random.randint(1, 100, 5)"
   ]
  },
  {
   "cell_type": "markdown",
   "id": "1a4733aa",
   "metadata": {},
   "source": [
    "### NumPy array `shape`"
   ]
  },
  {
   "cell_type": "code",
   "execution_count": 13,
   "id": "5b9a8c5c",
   "metadata": {},
   "outputs": [
    {
     "data": {
      "text/plain": [
       "(2, 5)"
      ]
     },
     "execution_count": 13,
     "metadata": {},
     "output_type": "execute_result"
    }
   ],
   "source": [
    "# check shape 2d array\n",
    "array_2d.shape"
   ]
  },
  {
   "cell_type": "markdown",
   "id": "62902aab",
   "metadata": {},
   "source": [
    "`(2, 5)` implies array has 2 rows and 5 columns"
   ]
  },
  {
   "cell_type": "code",
   "execution_count": 14,
   "id": "ae82e536",
   "metadata": {},
   "outputs": [
    {
     "data": {
      "text/plain": [
       "array([[10, 20, 30, 40, 50],\n",
       "       [50, 40, 30, 20, 10]])"
      ]
     },
     "execution_count": 14,
     "metadata": {},
     "output_type": "execute_result"
    }
   ],
   "source": [
    "# view original array\n",
    "array_2d"
   ]
  },
  {
   "cell_type": "code",
   "execution_count": 15,
   "id": "71917c82",
   "metadata": {},
   "outputs": [
    {
     "data": {
      "text/plain": [
       "(5, 2)"
      ]
     },
     "execution_count": 15,
     "metadata": {},
     "output_type": "execute_result"
    }
   ],
   "source": [
    "# change shape of array\n",
    "array_2d.shape = (5, 2)\n",
    "array_2d.shape"
   ]
  },
  {
   "cell_type": "code",
   "execution_count": 16,
   "id": "9f632883",
   "metadata": {},
   "outputs": [
    {
     "data": {
      "text/plain": [
       "array([[10, 20],\n",
       "       [30, 40],\n",
       "       [50, 50],\n",
       "       [40, 30],\n",
       "       [20, 10]])"
      ]
     },
     "execution_count": 16,
     "metadata": {},
     "output_type": "execute_result"
    }
   ],
   "source": [
    "# view reshaped array\n",
    "array_2d"
   ]
  },
  {
   "cell_type": "markdown",
   "id": "23ca8d92",
   "metadata": {},
   "source": [
    "### Join NumPy array"
   ]
  },
  {
   "cell_type": "markdown",
   "id": "4dd10ea2",
   "metadata": {},
   "source": [
    "### vstack()"
   ]
  },
  {
   "cell_type": "code",
   "execution_count": 17,
   "id": "0a4d17e3",
   "metadata": {},
   "outputs": [
    {
     "data": {
      "text/plain": [
       "array([[ 1,  2,  3,  4,  5],\n",
       "       [11, 12, 13, 14, 15]])"
      ]
     },
     "execution_count": 17,
     "metadata": {},
     "output_type": "execute_result"
    }
   ],
   "source": [
    "# define two arrays\n",
    "array_1 = np.array([1, 2, 3, 4, 5])\n",
    "array_2 = np.array([11, 12, 13, 14, 15])\n",
    "\n",
    "# stack arrays vertically\n",
    "np.vstack((array_1, array_2))"
   ]
  },
  {
   "cell_type": "markdown",
   "id": "5444b87a",
   "metadata": {},
   "source": [
    "### hstack()"
   ]
  },
  {
   "cell_type": "code",
   "execution_count": 18,
   "id": "0e8c95e8",
   "metadata": {},
   "outputs": [
    {
     "data": {
      "text/plain": [
       "array([ 1,  2,  3,  4,  5, 11, 12, 13, 14, 15])"
      ]
     },
     "execution_count": 18,
     "metadata": {},
     "output_type": "execute_result"
    }
   ],
   "source": [
    "# stack arrays horizontally\n",
    "np.hstack((array_1, array_2))"
   ]
  },
  {
   "cell_type": "markdown",
   "id": "d78d96bd",
   "metadata": {},
   "source": [
    "### column_stack()"
   ]
  },
  {
   "cell_type": "code",
   "execution_count": 19,
   "id": "2b9965c7",
   "metadata": {},
   "outputs": [
    {
     "data": {
      "text/plain": [
       "array([[ 1, 11],\n",
       "       [ 2, 12],\n",
       "       [ 3, 13],\n",
       "       [ 4, 14],\n",
       "       [ 5, 15]])"
      ]
     },
     "execution_count": 19,
     "metadata": {},
     "output_type": "execute_result"
    }
   ],
   "source": [
    "# stack arrays in column stack\n",
    "np.column_stack((array_1, array_2))"
   ]
  },
  {
   "cell_type": "markdown",
   "id": "868eafde",
   "metadata": {},
   "source": [
    "### NumPy Intersection & Diffrence"
   ]
  },
  {
   "cell_type": "markdown",
   "id": "98203351",
   "metadata": {},
   "source": [
    "### intersect1d()"
   ]
  },
  {
   "cell_type": "code",
   "execution_count": 20,
   "id": "5d648571",
   "metadata": {},
   "outputs": [
    {
     "data": {
      "text/plain": [
       "array([50, 60])"
      ]
     },
     "execution_count": 20,
     "metadata": {},
     "output_type": "execute_result"
    }
   ],
   "source": [
    "# re-define two arrays\n",
    "array_1 = np.array([10, 20, 30, 40, 50, 60])\n",
    "array_2 = np.array([50,60, 70, 80, 90, 100])\n",
    "\n",
    "# find common values between 2 arrays\n",
    "np.intersect1d(array_1, array_2)"
   ]
  },
  {
   "cell_type": "markdown",
   "id": "536dc811",
   "metadata": {},
   "source": [
    "### setdiff1d()"
   ]
  },
  {
   "cell_type": "code",
   "execution_count": 21,
   "id": "c8fb7954",
   "metadata": {},
   "outputs": [
    {
     "data": {
      "text/plain": [
       "array([10, 20, 30, 40])"
      ]
     },
     "execution_count": 21,
     "metadata": {},
     "output_type": "execute_result"
    }
   ],
   "source": [
    "# array_1 - array_2\n",
    "np.setdiff1d(array_1, array_2)"
   ]
  },
  {
   "cell_type": "code",
   "execution_count": 22,
   "id": "bb28b07c",
   "metadata": {},
   "outputs": [
    {
     "data": {
      "text/plain": [
       "array([ 70,  80,  90, 100])"
      ]
     },
     "execution_count": 22,
     "metadata": {},
     "output_type": "execute_result"
    }
   ],
   "source": [
    "# # array_2 - array_1\n",
    "np.setdiff1d(array_2, array_1)"
   ]
  },
  {
   "cell_type": "markdown",
   "id": "8b8c0a17",
   "metadata": {},
   "source": [
    "### Addition of NumPy arrays"
   ]
  },
  {
   "cell_type": "code",
   "execution_count": 23,
   "id": "1b4dae9a",
   "metadata": {},
   "outputs": [
    {
     "data": {
      "text/plain": [
       "100"
      ]
     },
     "execution_count": 23,
     "metadata": {},
     "output_type": "execute_result"
    }
   ],
   "source": [
    "# define two arrays\n",
    "array_3 = np.array([10, 20])\n",
    "array_4 = np.array([30, 40])\n",
    "\n",
    "# find sum of arrays\n",
    "np.sum([array_3, array_4])"
   ]
  },
  {
   "cell_type": "code",
   "execution_count": 24,
   "id": "d06389fc",
   "metadata": {},
   "outputs": [
    {
     "data": {
      "text/plain": [
       "array([40, 60])"
      ]
     },
     "execution_count": 24,
     "metadata": {},
     "output_type": "execute_result"
    }
   ],
   "source": [
    "# find column wise sum\n",
    "np.sum([array_3, array_4], axis=0)"
   ]
  },
  {
   "cell_type": "code",
   "execution_count": 25,
   "id": "59e22bcf",
   "metadata": {},
   "outputs": [
    {
     "data": {
      "text/plain": [
       "array([30, 70])"
      ]
     },
     "execution_count": 25,
     "metadata": {},
     "output_type": "execute_result"
    }
   ],
   "source": [
    "# find row wise sum\n",
    "np.sum([array_3, array_4], axis=1)"
   ]
  },
  {
   "cell_type": "markdown",
   "id": "eb1ec506",
   "metadata": {},
   "source": [
    "### NumPy Array Mathematics"
   ]
  },
  {
   "cell_type": "code",
   "execution_count": 26,
   "id": "3362449d",
   "metadata": {},
   "outputs": [
    {
     "data": {
      "text/plain": [
       "array([11, 21, 31, 41, 51, 61, 71])"
      ]
     },
     "execution_count": 26,
     "metadata": {},
     "output_type": "execute_result"
    }
   ],
   "source": [
    "# define array\n",
    "array_5 = np.array([10, 20, 30, 40, 50, 60, 70])\n",
    "\n",
    "# add 1 to each element of array\n",
    "array_5 + 1"
   ]
  },
  {
   "cell_type": "code",
   "execution_count": 27,
   "id": "f24d981a",
   "metadata": {},
   "outputs": [
    {
     "data": {
      "text/plain": [
       "array([ 20,  40,  60,  80, 100, 120, 140])"
      ]
     },
     "execution_count": 27,
     "metadata": {},
     "output_type": "execute_result"
    }
   ],
   "source": [
    "# multiply each element of array by 2\n",
    "array_5 * 2"
   ]
  },
  {
   "cell_type": "code",
   "execution_count": 28,
   "id": "5d146c07",
   "metadata": {},
   "outputs": [
    {
     "data": {
      "text/plain": [
       "array([ 9, 19, 29, 39, 49, 59, 69])"
      ]
     },
     "execution_count": 28,
     "metadata": {},
     "output_type": "execute_result"
    }
   ],
   "source": [
    "# substract 1 from each element of array\n",
    "array_5 - 1 "
   ]
  },
  {
   "cell_type": "code",
   "execution_count": 29,
   "id": "56aea7ac",
   "metadata": {},
   "outputs": [
    {
     "data": {
      "text/plain": [
       "array([ 5., 10., 15., 20., 25., 30., 35.])"
      ]
     },
     "execution_count": 29,
     "metadata": {},
     "output_type": "execute_result"
    }
   ],
   "source": [
    "# divide each element of array by 2\n",
    "array_5/2 "
   ]
  },
  {
   "cell_type": "markdown",
   "id": "286c3907",
   "metadata": {},
   "source": [
    "### mean()"
   ]
  },
  {
   "cell_type": "code",
   "execution_count": 30,
   "id": "a4d7c72f",
   "metadata": {},
   "outputs": [
    {
     "data": {
      "text/plain": [
       "40.0"
      ]
     },
     "execution_count": 30,
     "metadata": {},
     "output_type": "execute_result"
    }
   ],
   "source": [
    "# find mean of array\n",
    "np.mean(array_5)"
   ]
  },
  {
   "cell_type": "code",
   "execution_count": 31,
   "id": "251637d3",
   "metadata": {},
   "outputs": [
    {
     "data": {
      "text/plain": [
       "23.866666666666667"
      ]
     },
     "execution_count": 31,
     "metadata": {},
     "output_type": "execute_result"
    }
   ],
   "source": [
    "# find mean of random array\n",
    "np.mean(np.random.randint(1, 50, 15))"
   ]
  },
  {
   "cell_type": "markdown",
   "id": "126ebbb7",
   "metadata": {},
   "source": [
    "### std()"
   ]
  },
  {
   "cell_type": "code",
   "execution_count": 32,
   "id": "8fd3ef62",
   "metadata": {},
   "outputs": [
    {
     "data": {
      "text/plain": [
       "20.0"
      ]
     },
     "execution_count": 32,
     "metadata": {},
     "output_type": "execute_result"
    }
   ],
   "source": [
    "# find standard deviation\n",
    "np.std(array_5)"
   ]
  },
  {
   "cell_type": "code",
   "execution_count": 33,
   "id": "068faf15",
   "metadata": {},
   "outputs": [
    {
     "data": {
      "text/plain": [
       "13.0843417870369"
      ]
     },
     "execution_count": 33,
     "metadata": {},
     "output_type": "execute_result"
    }
   ],
   "source": [
    "# find standard deviation of random array\n",
    "np.std(np.random.randint(1, 50, 15))"
   ]
  },
  {
   "cell_type": "markdown",
   "id": "87802a62",
   "metadata": {},
   "source": [
    "### median()"
   ]
  },
  {
   "cell_type": "code",
   "execution_count": 34,
   "id": "f941ed8d",
   "metadata": {},
   "outputs": [
    {
     "data": {
      "text/plain": [
       "40.0"
      ]
     },
     "execution_count": 34,
     "metadata": {},
     "output_type": "execute_result"
    }
   ],
   "source": [
    "# find median of array\n",
    "np.median(array_5)"
   ]
  },
  {
   "cell_type": "code",
   "execution_count": 35,
   "id": "c268f4f6",
   "metadata": {},
   "outputs": [
    {
     "data": {
      "text/plain": [
       "38.0"
      ]
     },
     "execution_count": 35,
     "metadata": {},
     "output_type": "execute_result"
    }
   ],
   "source": [
    "# find median of array of random array\n",
    "np.median(np.random.randint(1, 50, 15))"
   ]
  },
  {
   "cell_type": "markdown",
   "id": "aa1da6ac",
   "metadata": {},
   "source": [
    "### percentile()"
   ]
  },
  {
   "cell_type": "code",
   "execution_count": 36,
   "id": "75f6882e",
   "metadata": {},
   "outputs": [
    {
     "name": "stdout",
     "output_type": "stream",
     "text": [
      "25th percentile of array: 25.0\n",
      "50th percentile of array: 40.0\n",
      "75th percentile of array: 55.0\n"
     ]
    }
   ],
   "source": [
    "# get diffrenct percentiles of array\n",
    "print('25th percentile of array:', np.percentile(array_5, 25))\n",
    "print('50th percentile of array:', np.percentile(array_5, 50))\n",
    "print('75th percentile of array:', np.percentile(array_5, 75))"
   ]
  },
  {
   "cell_type": "markdown",
   "id": "d48da0ea",
   "metadata": {},
   "source": [
    "### linspace()\n",
    "\n",
    "function returns number spaces evenly w.r.t interval"
   ]
  },
  {
   "cell_type": "code",
   "execution_count": 37,
   "id": "c4bdbc5a",
   "metadata": {},
   "outputs": [
    {
     "data": {
      "text/plain": [
       "array([2.  , 2.25, 2.5 , 2.75, 3.  ])"
      ]
     },
     "execution_count": 37,
     "metadata": {},
     "output_type": "execute_result"
    }
   ],
   "source": [
    "np.linspace(2.0, 3.0, num=5)"
   ]
  },
  {
   "cell_type": "code",
   "execution_count": 38,
   "id": "9204d8b8",
   "metadata": {},
   "outputs": [
    {
     "data": {
      "text/plain": [
       "array([0.        , 0.22222222, 0.44444444, 0.66666667, 0.88888889,\n",
       "       1.11111111, 1.33333333, 1.55555556, 1.77777778, 2.        ])"
      ]
     },
     "execution_count": 38,
     "metadata": {},
     "output_type": "execute_result"
    }
   ],
   "source": [
    "np.linspace(0, 2, 10)"
   ]
  },
  {
   "cell_type": "markdown",
   "id": "dc6acd75",
   "metadata": {},
   "source": [
    "### reshape()"
   ]
  },
  {
   "cell_type": "code",
   "execution_count": 39,
   "id": "2ff67550",
   "metadata": {},
   "outputs": [
    {
     "name": "stdout",
     "output_type": "stream",
     "text": [
      "array shape: (16,)\n",
      "\n",
      "array size: 16\n",
      "\n",
      "reshaped array: 4 x 4\n",
      "[[ 1  2  3  4]\n",
      " [ 5  6  7  8]\n",
      " [ 9 10 11 12]\n",
      " [13 14 15 16]]\n",
      "\n",
      "reshaped array: (2, 8)\n",
      "[[ 1  2  3  4  5  6  7  8]\n",
      " [ 9 10 11 12 13 14 15 16]]\n"
     ]
    }
   ],
   "source": [
    "# creating a numpy array\n",
    "array_6 = np.array([1, 2, 3, 4, 5, 6, 7, 8, 9, 10, 11, 12, 13, 14, 15, 16])\n",
    "\n",
    "# print array shape\n",
    "print('array shape:', array_6.shape, end='\\n\\n')\n",
    "\n",
    "# print array size\n",
    "array_size = array_6.size\n",
    "print('array size:', array_size, end='\\n\\n')\n",
    "\n",
    "# N-D array N dimension\n",
    "N = 4\n",
    " \n",
    "# calculating M\n",
    "M = array_size//N\n",
    "\n",
    "# reshaping numpy array\n",
    "# converting it to 2-D from 1-D array\n",
    "reshaped_1 = array_6.reshape((N, M))\n",
    "print(f'reshaped array: {N} x {M}')\n",
    "print(reshaped_1, end='\\n\\n')\n",
    "\n",
    "# creating another reshaped array\n",
    "reshaped_2 = np.reshape(array_6, (2, 8))\n",
    "print(f'reshaped array: {reshaped_2.shape}')\n",
    "print(reshaped_2)"
   ]
  },
  {
   "cell_type": "markdown",
   "id": "54f361a4",
   "metadata": {},
   "source": [
    "### copyto()"
   ]
  },
  {
   "cell_type": "code",
   "execution_count": 40,
   "id": "bbe1a81b",
   "metadata": {},
   "outputs": [
    {
     "name": "stdout",
     "output_type": "stream",
     "text": [
      "original array before copy: [1 2 3]\n",
      "original array after copy: [4 5 6]\n"
     ]
    }
   ],
   "source": [
    "# make an array with numpy\n",
    "original_array = np.array([1, 2, 3])\n",
    "numbers_list = [4, 5, 6]\n",
    "print('original array before copy:', original_array)\n",
    "         \n",
    "# applying numpy.copyto() method\n",
    "np.copyto(original_array, numbers_list)\n",
    "print('original array after copy:', original_array)"
   ]
  },
  {
   "cell_type": "markdown",
   "id": "e279ff19",
   "metadata": {},
   "source": [
    "### transpose()"
   ]
  },
  {
   "cell_type": "code",
   "execution_count": 41,
   "id": "8a250ada",
   "metadata": {},
   "outputs": [
    {
     "data": {
      "text/plain": [
       "matrix([[ 4, 12],\n",
       "        [ 1,  3]])"
      ]
     },
     "execution_count": 41,
     "metadata": {},
     "output_type": "execute_result"
    }
   ],
   "source": [
    "# make matrix with numpy\n",
    "my_matrix = np.matrix('[4, 1; 12, 3]')\n",
    "\n",
    "# applying matrix.transpose() method\n",
    "my_matrix.transpose()"
   ]
  },
  {
   "cell_type": "markdown",
   "id": "66d09ca6",
   "metadata": {},
   "source": [
    "### NumPy Save & Load"
   ]
  },
  {
   "cell_type": "markdown",
   "id": "4731af96",
   "metadata": {},
   "source": [
    "### save()"
   ]
  },
  {
   "cell_type": "code",
   "execution_count": 42,
   "id": "0fccfde7",
   "metadata": {},
   "outputs": [],
   "source": [
    "# save NumPy array\n",
    "np.save('my_array', array_5)"
   ]
  },
  {
   "cell_type": "markdown",
   "id": "f4b0e199",
   "metadata": {},
   "source": [
    "### load()"
   ]
  },
  {
   "cell_type": "code",
   "execution_count": 43,
   "id": "c8988a29",
   "metadata": {},
   "outputs": [
    {
     "data": {
      "text/plain": [
       "array([10, 20, 30, 40, 50, 60, 70])"
      ]
     },
     "execution_count": 43,
     "metadata": {},
     "output_type": "execute_result"
    }
   ],
   "source": [
    "# load saved NumPy array\n",
    "np.load('my_array.npy')"
   ]
  }
 ],
 "metadata": {
  "kernelspec": {
   "display_name": "Python 3 (ipykernel)",
   "language": "python",
   "name": "python3"
  },
  "language_info": {
   "codemirror_mode": {
    "name": "ipython",
    "version": 3
   },
   "file_extension": ".py",
   "mimetype": "text/x-python",
   "name": "python",
   "nbconvert_exporter": "python",
   "pygments_lexer": "ipython3",
   "version": "3.9.12"
  }
 },
 "nbformat": 4,
 "nbformat_minor": 5
}
